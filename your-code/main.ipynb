{
 "cells": [
  {
   "cell_type": "markdown",
   "metadata": {},
   "source": [
    "# Probability"
   ]
  },
  {
   "cell_type": "markdown",
   "metadata": {},
   "source": [
    "## Challenge 1\n",
    "There is a box with 10 white balls, 12 red balls and 8 black balls. Calculate the probability of:\n",
    "* Taking a white ball out.\n",
    "* Taking a white ball on first extraction and a black ball out on second extraction without replacing the first one.\n",
    "* Taking a white ball on first extraction and a black ball out on second extraction replacing the first one.\n",
    "* Taking 3 balls and them being all different colours."
   ]
  },
  {
   "cell_type": "code",
   "execution_count": 34,
   "metadata": {},
   "outputs": [
    {
     "name": "stdout",
     "output_type": "stream",
     "text": [
      "The probability of taking a white ball out is: 33.3%\n"
     ]
    }
   ],
   "source": [
    "# YOUR CODE HERE\n",
    "balls_w = 10\n",
    "balls_r = 12\n",
    "balls_b = 8\n",
    "total_number_of_balls = balls_w + balls_r + balls_b\n",
    "p_white = round(balls_w/total_number_of_balls, 3)\n",
    "print(f\"The probability of taking a white ball out is: {round(p_white * 100, 1)}%\")\n"
   ]
  },
  {
   "cell_type": "code",
   "execution_count": 38,
   "metadata": {},
   "outputs": [
    {
     "name": "stdout",
     "output_type": "stream",
     "text": [
      "The probability of taking a white ball on first extraction and a black ball out on second extraction without replacing the first one is: 9.2%\n"
     ]
    }
   ],
   "source": [
    "p_black_second_not_white_replacement = round(balls_b/(total_number_of_balls-1), 3)\n",
    "p_white_first_black_second_not_replacing = round(p_white * p_black_second_not_white_replacement, 3)\n",
    "\n",
    "print(f\"The probability of taking a white ball on first extraction and a black ball out on second extraction without replacing the first one is: {round(p_white_first_black_second_not_replacing * 100, 1)}%\")\n"
   ]
  },
  {
   "cell_type": "code",
   "execution_count": 41,
   "metadata": {},
   "outputs": [
    {
     "name": "stdout",
     "output_type": "stream",
     "text": [
      "The probability of taking a white ball on first extraction and a black ball out on second extraction replacing the first one is: 8.9%\n"
     ]
    }
   ],
   "source": [
    "p_black_second_white_replacement = round(balls_b/(total_number_of_balls), 3)\n",
    "p_white_first_black_second_replacing = round(p_white * p_black_second_white_replacement, 3)\n",
    "\n",
    "print(f\"The probability of taking a white ball on first extraction and a black ball out on second extraction replacing the first one is: {round(p_white_first_black_second_replacing * 100, 1)}%\")\n"
   ]
  },
  {
   "cell_type": "code",
   "execution_count": 42,
   "metadata": {},
   "outputs": [
    {
     "name": "stdout",
     "output_type": "stream",
     "text": [
      "The probability of taking 3 balls and them being all different colours is:  3.9%\n"
     ]
    }
   ],
   "source": [
    "p_red_last_not_white_black_replacement = round(balls_r/(total_number_of_balls-2), 3)\n",
    "p_white_first_black_second_red_last_not_replacing = round(p_white * p_black_second_not_white_replacement * p_red_last_not_white_black_replacement, 3)\n",
    "\n",
    "print(f\"The probability of taking 3 balls and them being all different colours is:  {round(p_white_first_black_second_red_last_not_replacing * 100, 1)}%\")\n"
   ]
  },
  {
   "cell_type": "markdown",
   "metadata": {},
   "source": [
    "## Challenge 2\n",
    "\n",
    "You want to go on picnic on Saturday. You hate rain, and would know to plan your weekend. To help you make a decision, you gather the following data about rainy days:\n",
    "\n",
    "* 40% of all days are cloudy.\n",
    "* About 50% of cloudy days are rainy. \n",
    "* About 20% of non-cloudy days are rainy.\n",
    "\n",
    "What is the chance of rain during next Saturday?"
   ]
  },
  {
   "cell_type": "code",
   "execution_count": 43,
   "metadata": {},
   "outputs": [
    {
     "name": "stdout",
     "output_type": "stream",
     "text": [
      "The probability of rain during next Saturday is: 32.0\n"
     ]
    }
   ],
   "source": [
    "# YOUR CODE HERE\n",
    "p_rain_if_cloud = 0.5\n",
    "p_cloudy = 0.4\n",
    "p_cloudy_and_rain = p_rain_if_cloud * p_cloudy\n",
    "\n",
    "p_rain_if_not_cloud = 0.2\n",
    "p_not_cloudy = 0.6\n",
    "p_not_cloudy_and_rain = p_rain_if_not_cloud * p_not_cloudy\n",
    "\n",
    "p_rain = p_cloudy_and_rain + p_not_cloudy_and_rain\n",
    "\n",
    "print(f\"The probability of rain during next Saturday is: {round(p_rain * 100, 3)}\")\n"
   ]
  },
  {
   "cell_type": "markdown",
   "metadata": {},
   "source": [
    "## Challenge 3\n",
    "\n",
    "A and B are events of a probability such that $P(A) = 0.3$, $P(B) = 0.6$ and $P(A \\cap B) = 0.1$\n",
    "\n",
    "Which of the following statements are true?  \n",
    "**HINT: draw a big Venn Diagram by your side**  \n",
    "* $P(\\overline{A}) = 0.7$\n",
    "* $P(A \\cup B) = 0.6$\n",
    "* $P(A \\cap \\overline{B}) = 0.2$\n",
    "* $P(A \\cup \\overline{A}) = 1$  \n",
    "* $P(A \\cap (B \\cup \\overline{B})) = 0.4$\n",
    "* $P(\\overline{A} \\cap \\overline{B}) = 0.3$\n",
    "* $P(\\overline{A \\cap B}) = 0.9$"
   ]
  },
  {
   "cell_type": "code",
   "execution_count": null,
   "metadata": {},
   "outputs": [],
   "source": [
    "# YOUR CODE HERE\n"
   ]
  },
  {
   "cell_type": "markdown",
   "metadata": {},
   "source": [
    "$$\n",
    "P(\\overline{A}) = 1 - P(A) = 1 - 0.3 = 0.7\n",
    "$$ \n",
    "The statement is true\n",
    "\n",
    "$$\n",
    "P(A \\cup B) = P(A) + P(B) - P(A \\cap B) = 0.3 + 0/6 - 0.1 = 0.8 \n",
    "$$\n",
    "The statement is false\n",
    "\n",
    "$$\n",
    "P(A \\cap \\overline{B}) = P(A) - P(A \\cap B) = 0.3 - 0.1 = 0.2\n",
    "$$\n",
    "The statement is true\n",
    "\n",
    "$$\n",
    "P(A \\cup \\overline{A}) = P(A) + P(\\overline{A}) = 1\n",
    "$$\n",
    "The statement is true\n",
    "\n",
    "$$\n",
    "P(A \\cap (B \\cup \\overline{B})) = P(A) = 0.3\n",
    "$$\n",
    "The statement is false\n",
    "\n",
    "$$\n",
    "P(\\overline{A \\cap B}) = 1 - P(A \\cap B) = 1 - 0.1 = 0.9\n",
    "$$\n",
    "The statement is true"
   ]
  },
  {
   "cell_type": "markdown",
   "metadata": {},
   "source": [
    "## Challenge 4\n",
    "\n",
    " * If someone flies to China, the probability of getting Covid is 1%  \n",
    " * If someone flies to Italy, the probability of getting Covid is 20%  \n",
    "\n",
    "I roll 1 dice with numbers 1, 2, 3, 4, 5, 6:  \n",
    " * If 1: I fly to Italy\n",
    " * If not 1: I fly to China\n",
    "\n",
    "During my trip, I got Covid. What is the probability that I flew to China?"
   ]
  },
  {
   "cell_type": "code",
   "execution_count": 48,
   "metadata": {},
   "outputs": [
    {
     "name": "stdout",
     "output_type": "stream",
     "text": [
      "The probability that I flew to China is: 17.0%\n"
     ]
    }
   ],
   "source": [
    "# YOUR CODE HERE\n",
    "\n",
    "probability_fly_china = 5/6\n",
    "probability_fly_italy = 1/6\n",
    "probability_covid_if_china = 0.01\n",
    "probability_covid_if_italy = 0.2\n",
    "\n",
    "\n",
    "probability_covid = probability_covid_if_china * probability_fly_china + probability_covid_if_italy * probability_covid_if_italy\n",
    "\n",
    "probability_flew_china_if_covid = round((probability_covid_if_china * probability_fly_china)/probability_covid, 2)\n",
    "\n",
    "print(f\"The probability that I flew to China is: {probability_flew_china_if_covid * 100}%\")"
   ]
  },
  {
   "cell_type": "markdown",
   "metadata": {},
   "source": [
    "## BONUS\n",
    "\n",
    "You roll 2 dice. What is the probability that the sum of the numbers is 7? And 8? And 9? Then simulate 10000 times and draw a countplot."
   ]
  },
  {
   "cell_type": "markdown",
   "metadata": {},
   "source": [
    "your explanation here"
   ]
  },
  {
   "cell_type": "code",
   "execution_count": 60,
   "metadata": {},
   "outputs": [
    {
     "name": "stdout",
     "output_type": "stream",
     "text": [
      "The probability that the sum is 7 is 16.7%, that is 8: 13.9% and that is 9: 11.1%\n"
     ]
    }
   ],
   "source": [
    "# YOUR CODE HERE\n",
    "# The pairs that give a sum of 7 are: (1, 6), (2, 5), (3, 4), (4, 3), (5, 2), (6, 1). 6 favorable outcomes \n",
    "# The pairs that give a sum of 8 are: (2, 6), (3, 5), (4, 4), (5, 3), (6, 2). 5 favorable outcomes \n",
    "# The pairs that give a sum of 9 are: (3, 6), (4, 5), (5, 4), (6, 3). 4 favorable outcomes \n",
    "# Total mnumber of possible outcomes = 6 x 6 = 36\n",
    "\n",
    "p_sum_7 = round(6/36, 3)\n",
    "p_sum_8 = round(5/36, 3)\n",
    "p_sum_9 = round(4/36, 3)\n",
    "\n",
    "print(f\"The probability that the sum is 7 is {p_sum_7 * 100}%, that is 8: {round(p_sum_8 * 100, 3)}% and that is 9: {p_sum_9 * 100}%\")\n"
   ]
  },
  {
   "cell_type": "code",
   "execution_count": 62,
   "metadata": {},
   "outputs": [
    {
     "data": {
      "image/png": "[encoded data removed]",
      "text/plain": [
       "<Figure size 640x480 with 1 Axes>"
      ]
     },
     "metadata": {},
     "output_type": "display_data"
    }
   ],
   "source": [
    "import numpy as np\n",
    "import seaborn as sns\n",
    "import matplotlib.pyplot as plt\n",
    "\n",
    "rolls = np.random.randint(1, 7, (10000, 2))\n",
    "sums = rolls.sum(axis=1)\n",
    "sns.countplot(x=sums, color=\"purple\")\n",
    "plt.title('Distribution of Sums for 10,000 Rolls of Two Dice')\n",
    "plt.xlabel('Sum of Two Dice')\n",
    "plt.ylabel('Count')\n",
    "plt.show()\n"
   ]
  }
 ],
 "metadata": {
  "kernelspec": {
   "display_name": "Python 3",
   "language": "python",
   "name": "python3"
  },
  "language_info": {
   "codemirror_mode": {
    "name": "ipython",
    "version": 3
   },
   "file_extension": ".py",
   "mimetype": "text/x-python",
   "name": "python",
   "nbconvert_exporter": "python",
   "pygments_lexer": "ipython3",
   "version": "3.13.2"
  },
  "toc": {
   "base_numbering": 1,
   "nav_menu": {},
   "number_sections": false,
   "sideBar": true,
   "skip_h1_title": false,
   "title_cell": "Table of Contents",
   "title_sidebar": "Contents",
   "toc_cell": false,
   "toc_position": {
    "height": "calc(100% - 180px)",
    "left": "10px",
    "top": "150px",
    "width": "296.475px"
   },
   "toc_section_display": true,
   "toc_window_display": false
  },
  "varInspector": {
   "cols": {
    "lenName": 16,
    "lenType": 16,
    "lenVar": 40
   },
   "kernels_config": {
    "python": {
     "delete_cmd_postfix": "",
     "delete_cmd_prefix": "del ",
     "library": "var_list.py",
     "varRefreshCmd": "print(var_dic_list())"
    },
    "r": {
     "delete_cmd_postfix": ") ",
     "delete_cmd_prefix": "rm(",
     "library": "var_list.r",
     "varRefreshCmd": "cat(var_dic_list()) "
    }
   },
   "types_to_exclude": [
    "module",
    "function",
    "builtin_function_or_method",
    "instance",
    "_Feature"
   ],
   "window_display": false
  }
 },
 "nbformat": 4,
 "nbformat_minor": 2
}
